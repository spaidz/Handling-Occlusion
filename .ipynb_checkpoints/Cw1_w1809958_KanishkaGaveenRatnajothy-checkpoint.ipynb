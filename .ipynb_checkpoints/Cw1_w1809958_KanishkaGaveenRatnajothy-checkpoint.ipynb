{
 "cells": [
  {
   "cell_type": "markdown",
   "id": "9cef4299",
   "metadata": {},
   "source": [
    "## Part A\n",
    "\n",
    "### Handling Occlusion in Object Recognition\n",
    "\n",
    ">A common problem in object recognition involves dealing with occlusions, where objects are partially or entirely obstructed by other objects in an image or scene. Occlusions pose challenges to computer vision systems because they hinder the ability to accurately detect and recognize objects.\n",
    "\n"
   ]
  },
  {
   "cell_type": "code",
   "execution_count": null,
   "id": "e76f2a8d",
   "metadata": {},
   "outputs": [],
   "source": []
  }
 ],
 "metadata": {
  "kernelspec": {
   "display_name": "Python 3 (ipykernel)",
   "language": "python",
   "name": "python3"
  },
  "language_info": {
   "codemirror_mode": {
    "name": "ipython",
    "version": 3
   },
   "file_extension": ".py",
   "mimetype": "text/x-python",
   "name": "python",
   "nbconvert_exporter": "python",
   "pygments_lexer": "ipython3",
   "version": "3.9.7"
  }
 },
 "nbformat": 4,
 "nbformat_minor": 5
}
