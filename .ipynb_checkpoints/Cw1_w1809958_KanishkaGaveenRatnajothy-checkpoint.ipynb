{
 "cells": [
  {
   "cell_type": "markdown",
   "id": "cc99d600",
   "metadata": {},
   "source": [
    "## Handling Occlusion in Object Recognition"
   ]
  },
  {
   "cell_type": "markdown",
   "id": "9cef4299",
   "metadata": {},
   "source": [
    "### Part A - Problem Domain\n",
    "\n",
    ">A common problem in object recognition involves dealing with occlusions, where objects are partially or entirely obstructed by other objects in an image or scene. Occlusions pose challenges to computer vision systems because they hinder the ability to accurately detect and recognize objects.\n",
    "\n",
    "#### 1.1 Object Recognition\n",
    "\n",
    ">Object recognition is a broader concept that involves identifying and classifying objects within an image or a video stream without necessarily providing precise localization. It can be seen as a higher-level task compared to object detection.\n",
    "\n",
    "#### 1.2 Object Recognition using Artificial Intelligence\n",
    "\n",
    ">Object recognition using artificial intelligence involves leveraging machine learning algorithms, particularly deep learning models, to automatically identify and classify objects within images or video frames. The process typically involves training a model on a dataset of labeled images to learn the patterns and features associated with different object classes."
   ]
  },
  {
   "cell_type": "markdown",
   "id": "970be3a3",
   "metadata": {},
   "source": [
    "### Part B – Compare and evaluate AI techniques\n",
    "\n"
   ]
  }
 ],
 "metadata": {
  "kernelspec": {
   "display_name": "Python 3 (ipykernel)",
   "language": "python",
   "name": "python3"
  },
  "language_info": {
   "codemirror_mode": {
    "name": "ipython",
    "version": 3
   },
   "file_extension": ".py",
   "mimetype": "text/x-python",
   "name": "python",
   "nbconvert_exporter": "python",
   "pygments_lexer": "ipython3",
   "version": "3.9.7"
  }
 },
 "nbformat": 4,
 "nbformat_minor": 5
}
